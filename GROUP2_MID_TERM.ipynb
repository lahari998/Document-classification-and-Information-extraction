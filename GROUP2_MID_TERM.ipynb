{
 "cells": [
  {
   "cell_type": "markdown",
   "metadata": {},
   "source": [
    "# Importing necessary Libraries"
   ]
  },
  {
   "cell_type": "code",
   "execution_count": 1,
   "metadata": {},
   "outputs": [],
   "source": [
    "import torch\n",
    "import torch.nn as nn\n",
    "import torch.optim as optim\n",
    "from torchvision import datasets, transforms\n",
    "from torch.utils.data import DataLoader, ConcatDataset\n",
    "import random\n",
    "import torch.nn.functional as F\n",
    "import matplotlib.pyplot as plt\n",
    "import numpy as np"
   ]
  },
  {
   "cell_type": "code",
   "execution_count": 4,
   "metadata": {},
   "outputs": [],
   "source": [
    "device = torch.device(\"cuda\" if torch.cuda.is_available() else \"cpu\")"
   ]
  },
  {
   "cell_type": "markdown",
   "metadata": {},
   "source": [
    "# Data Augmentation"
   ]
  },
  {
   "cell_type": "code",
   "execution_count": 5,
   "metadata": {},
   "outputs": [],
   "source": [
    "transform = transforms.Compose([\n",
    "    transforms.Resize((224, 224)), \n",
    "    transforms.RandomResizedCrop(224, scale=(0.8, 1.0)),  \n",
    "    transforms.RandomRotation(10),\n",
    "    transforms.ColorJitter(brightness=0.2, contrast=0.2),\n",
    "    transforms.ToTensor(),\n",
    "    transforms.Normalize(mean=[0.4855, 0.4568, 0.4069], std=[0.2319, 0.2190, 0.2058])\n",
    "])"
   ]
  },
  {
   "cell_type": "markdown",
   "metadata": {},
   "source": [
    "# loading Dataset"
   ]
  },
  {
   "cell_type": "code",
   "execution_count": 6,
   "metadata": {},
   "outputs": [],
   "source": [
    "dataset = datasets.ImageFolder(root='/home/lahari/Downloads/training_set', transform=transform)\n",
    "\n",
    "def augmentation(dataset, n):\n",
    "    augmented_images = []\n",
    "    index = {i: [] for i in range(len(dataset.classes))}\n",
    "    \n",
    "    for i, (_, label) in enumerate(dataset):\n",
    "        index[label].append(i)\n",
    "\n",
    "    for label, i in index.items():\n",
    "        num = len(i)\n",
    "        req = n - num\n",
    "        for _ in range(req):\n",
    "            random_index = random.choice(i)  \n",
    "            img, _ = dataset[random_index]  \n",
    "\n",
    "            if isinstance(img, torch.Tensor):\n",
    "                img = transforms.ToPILImage()(img)\n",
    "            augmented_image = transform(img)  \n",
    "            augmented_images.append((augmented_image, label))\n",
    "    \n",
    "    return augmented_images\n"
   ]
  },
  {
   "cell_type": "code",
   "execution_count": 14,
   "metadata": {},
   "outputs": [],
   "source": [
    "n = 2000  \n",
    "augmented_images = augmentation(dataset, n)\n",
    "\n",
    "augmented_dataset = ConcatDataset([dataset, augmented_images])\n",
    "\n",
    "# Split the dataset into training, validation, and test sets\n",
    "train_size = int(0.7 * len(augmented_dataset))\n",
    "val_size = int(0.15 * len(augmented_dataset))\n",
    "test_size = len(augmented_dataset) - train_size - val_size\n",
    "\n",
    "train, val, test = torch.utils.data.random_split(augmented_dataset, [train_size, val_size, test_size])\n",
    "\n",
    "train_loader = DataLoader(train, batch_size=32, shuffle=True)\n",
    "val_loader = DataLoader(val, batch_size=32, shuffle=False)\n",
    "test_loader = DataLoader(test, batch_size=32, shuffle=False)"
   ]
  },
  {
   "cell_type": "markdown",
   "metadata": {},
   "source": [
    "# CNN Model"
   ]
  },
  {
   "cell_type": "code",
   "execution_count": 15,
   "metadata": {},
   "outputs": [],
   "source": [
    "class CNN(nn.Module):\n",
    "    def __init__(self):\n",
    "        super(CNN, self).__init__()\n",
    "        self.conv_layer1 = nn.Conv2d(in_channels=3, out_channels=16, kernel_size=3, stride=1, padding=1)\n",
    "        self.conv_layer2 = nn.Conv2d(in_channels=16, out_channels=32, kernel_size=3, stride=1, padding=1)\n",
    "        self.conv_layer3 = nn.Conv2d(in_channels=32, out_channels=48, kernel_size=3, stride=1, padding=1)\n",
    "        \n",
    "        self.pool = nn.MaxPool2d(kernel_size=2, stride=2)\n",
    "        self.dropout = nn.Dropout(p=0.7)\n",
    "        self.ann_layer1 = nn.Linear(48 * 28 * 28, 120)  \n",
    "        self.ann_layer2 = nn.Linear(120, 60)\n",
    "        self.ann_layer3 = nn.Linear(60, 4)  \n",
    "        \n",
    "    def forward(self, x):\n",
    "        x = F.relu(self.conv_layer1(x))\n",
    "        x = self.pool(x)\n",
    "        x = F.relu(self.conv_layer2(x))\n",
    "        x = self.pool(x)\n",
    "        x = F.relu(self.conv_layer3(x))\n",
    "        x = self.pool(x)\n",
    "        x = x.view(x.size(0), -1) \n",
    "        \n",
    "        x = F.relu(self.ann_layer1(x))\n",
    "        x = self.dropout(x)\n",
    "        x = F.relu(self.ann_layer2(x))\n",
    "        x = self.dropout(x)\n",
    "        \n",
    "        x = self.ann_layer3(x)\n",
    "        \n",
    "        return x"
   ]
  },
  {
   "cell_type": "code",
   "execution_count": 18,
   "metadata": {},
   "outputs": [
    {
     "name": "stdout",
     "output_type": "stream",
     "text": [
      "CNN(\n",
      "  (conv_layer1): Conv2d(3, 16, kernel_size=(3, 3), stride=(1, 1), padding=(1, 1))\n",
      "  (conv_layer2): Conv2d(16, 32, kernel_size=(3, 3), stride=(1, 1), padding=(1, 1))\n",
      "  (conv_layer3): Conv2d(32, 48, kernel_size=(3, 3), stride=(1, 1), padding=(1, 1))\n",
      "  (pool): MaxPool2d(kernel_size=2, stride=2, padding=0, dilation=1, ceil_mode=False)\n",
      "  (dropout): Dropout(p=0.7, inplace=False)\n",
      "  (ann_layer1): Linear(in_features=37632, out_features=120, bias=True)\n",
      "  (ann_layer2): Linear(in_features=120, out_features=60, bias=True)\n",
      "  (ann_layer3): Linear(in_features=60, out_features=4, bias=True)\n",
      ")\n",
      "Epoch 1, Loss: 1.3371, Val Loss: 1.3323\n",
      "Epoch 2, Loss: 1.1843, Val Loss: 1.1916\n",
      "Epoch 3, Loss: 1.3073, Val Loss: 0.8223\n",
      "Epoch 4, Loss: 0.7553, Val Loss: 0.5287\n",
      "Epoch 5, Loss: 0.5469, Val Loss: 0.2983\n",
      "Epoch 6, Loss: 0.4104, Val Loss: 0.2370\n",
      "Epoch 7, Loss: 0.5274, Val Loss: 0.1942\n",
      "Epoch 8, Loss: 0.9694, Val Loss: 0.1936\n",
      "Epoch 9, Loss: 0.3091, Val Loss: 0.1445\n",
      "Epoch 10, Loss: 0.3415, Val Loss: 0.1238\n",
      "Epoch 11, Loss: 0.2349, Val Loss: 0.1162\n",
      "Epoch 12, Loss: 0.2012, Val Loss: 0.1474\n",
      "Epoch 13, Loss: 0.0719, Val Loss: 0.1336\n",
      "Epoch 14, Loss: 0.0517, Val Loss: 0.1005\n",
      "Epoch 15, Loss: 0.2054, Val Loss: 0.1033\n",
      "Epoch 16, Loss: 0.3115, Val Loss: 0.1157\n",
      "Epoch 17, Loss: 0.1224, Val Loss: 0.1194\n",
      "Epoch 18, Loss: 0.1047, Val Loss: 0.1325\n",
      "Epoch 19, Loss: 0.2870, Val Loss: 0.1426\n",
      "Epoch 20, Loss: 0.1777, Val Loss: 0.1170\n",
      "Epoch 21, Loss: 0.1004, Val Loss: 0.0864\n",
      "Epoch 22, Loss: 0.1634, Val Loss: 0.0838\n",
      "Epoch 23, Loss: 0.0737, Val Loss: 0.1034\n",
      "Epoch 24, Loss: 0.0659, Val Loss: 0.0943\n",
      "Epoch 25, Loss: 0.1331, Val Loss: 0.1004\n"
     ]
    }
   ],
   "source": [
    "model = CNN().to(device)  \n",
    "print(summary(model))\n",
    "\n",
    "optimizer = optim.SGD(model.parameters(), lr=0.001, momentum=0.9, weight_decay=1e-3)  \n",
    "criterion = nn.CrossEntropyLoss()\n",
    "Loss = []\n",
    "Validation_loss = []\n",
    "num_of_epochs = 25\n",
    "for epoch in range(num_of_epochs):\n",
    "    model.train()\n",
    "    for images, labels in train_loader:\n",
    "        images, labels = images.to(device), labels.to(device)  \n",
    "        optimizer.zero_grad()\n",
    "        outputs = model(images)\n",
    "        loss = criterion(outputs, labels)\n",
    "        loss.backward()\n",
    "        optimizer.step()\n",
    "        \n",
    "\n",
    "    model.eval()\n",
    "    val_loss = 0\n",
    "    with torch.no_grad():\n",
    "        for images, labels in val_loader:\n",
    "            images, labels = images.to(device), labels.to(device)\n",
    "            outputs = model(images)\n",
    "            val_loss += criterion(outputs, labels).item()\n",
    "\n",
    "    val_loss /= len(val_loader)\n",
    "    Loss.append(loss.item())\n",
    "    Validation_loss.append(val_loss)\n",
    "    print(f\"Epoch {epoch+1}, Loss: {loss.item():.4f}, Val Loss: {val_loss:.4f}\")"
   ]
  },
  {
   "cell_type": "code",
   "execution_count": 20,
   "metadata": {},
   "outputs": [
    {
     "name": "stdout",
     "output_type": "stream",
     "text": [
      "Test Loss: 0.1538, Accuracy: 94.17%\n"
     ]
    }
   ],
   "source": [
    "torch.save(model.state_dict(), 'cnn_model.pth')\n",
    "model.eval()\n",
    "test_loss = 0\n",
    "correct = 0\n",
    "with torch.no_grad():\n",
    "    for images, labels in test_loader:\n",
    "        images, labels = images.to(device), labels.to(device)\n",
    "        outputs = model(images)\n",
    "        test_loss += criterion(outputs, labels).item()\n",
    "        _, predicted = torch.max(outputs.data, 1)\n",
    "        correct += (predicted == labels).sum().item()\n",
    "\n",
    "test_loss /= len(test_loader)\n",
    "accuracy = 100 * correct / len(test_loader.dataset)\n",
    "print(f'Test Loss: {test_loss:.4f}, Accuracy: {accuracy:.2f}%')"
   ]
  },
  {
   "cell_type": "code",
   "execution_count": 35,
   "metadata": {},
   "outputs": [
    {
     "data": {
      "image/png": "[encoded data removed]",
      "text/plain": [
       "<Figure size 800x500 with 1 Axes>"
      ]
     },
     "metadata": {},
     "output_type": "display_data"
    }
   ],
   "source": [
    "\n",
    "epochs = list(range(1,26))\n",
    "\n",
    "\n",
    "plt.figure(figsize=(8, 5))\n",
    "plt.plot(epochs, Loss, label='Training Loss', marker='o', linestyle='-')\n",
    "plt.plot(epochs, Validation_loss, label='Validation Loss', marker='o', linestyle='--')\n",
    "plt.xlabel('Epochs')\n",
    "plt.ylabel('Loss')\n",
    "plt.title('Training and Validation Loss over Epochs')\n",
    "plt.grid(alpha = 0.7)\n",
    "plt.legend()\n",
    "plt.show()"
   ]
  },
  {
   "cell_type": "code",
   "execution_count": null,
   "metadata": {},
   "outputs": [],
   "source": [
    "model = CNN().to(device)  \n",
    "print(model)\n",
    "\n",
    "optimizer = optim.SGD(model.parameters(), lr=0.001, momentum=0.9, weight_decay=1e-3)  \n",
    "criterion = nn.MSELoss()\n",
    "Loss = []\n",
    "Validation_loss = []\n",
    "num_of_epochs = 10\n",
    "for epoch in range(num_of_epochs):\n",
    "    model.train()\n",
    "    for images, labels in train_loader:\n",
    "        images, labels = images.to(device), labels.to(device)  \n",
    "        optimizer.zero_grad()\n",
    "        outputs = model(images)\n",
    "        loss = criterion(outputs, labels)\n",
    "        loss.backward()\n",
    "        optimizer.step()\n",
    "        \n",
    "\n",
    "    model.eval()\n",
    "    val_loss = 0\n",
    "    with torch.no_grad():\n",
    "        for images, labels in val_loader:\n",
    "            images, labels = images.to(device), labels.to(device)\n",
    "            outputs = model(images)\n",
    "            val_loss += criterion(outputs, labels).item()\n",
    "\n",
    "    val_loss /= len(val_loader)\n",
    "    Loss.append(loss.item())\n",
    "    Validation_loss.append(val_loss)\n",
    "    print(f\"Epoch {epoch+1}, Loss: {loss.item():.4f}, Val Loss: {val_loss:.4f}\")"
   ]
  },
  {
   "cell_type": "markdown",
   "metadata": {},
   "source": [
    "# Testing for some samples directly given"
   ]
  },
  {
   "cell_type": "code",
   "execution_count": 28,
   "metadata": {},
   "outputs": [],
   "source": [
    "from PIL import Image\n",
    "from pdf2image import convert_from_path"
   ]
  },
  {
   "cell_type": "code",
   "execution_count": 29,
   "metadata": {},
   "outputs": [
    {
     "name": "stderr",
     "output_type": "stream",
     "text": [
      "/tmp/ipykernel_28209/2298286353.py:2: FutureWarning: You are using `torch.load` with `weights_only=False` (the current default value), which uses the default pickle module implicitly. It is possible to construct malicious pickle data which will execute arbitrary code during unpickling (See https://github.com/pytorch/pytorch/blob/main/SECURITY.md#untrusted-models for more details). In a future release, the default value for `weights_only` will be flipped to `True`. This limits the functions that could be executed during unpickling. Arbitrary objects will no longer be allowed to be loaded via this mode unless they are explicitly allowlisted by the user via `torch.serialization.add_safe_globals`. We recommend you start setting `weights_only=True` for any use case where you don't have full control of the loaded file. Please open an issue on GitHub for any issues related to this experimental feature.\n",
      "  model.load_state_dict(torch.load('cnn_model.pth'))\n"
     ]
    },
    {
     "data": {
      "text/plain": [
       "CNN(\n",
       "  (conv_layer1): Conv2d(3, 16, kernel_size=(3, 3), stride=(1, 1), padding=(1, 1))\n",
       "  (conv_layer2): Conv2d(16, 32, kernel_size=(3, 3), stride=(1, 1), padding=(1, 1))\n",
       "  (conv_layer3): Conv2d(32, 48, kernel_size=(3, 3), stride=(1, 1), padding=(1, 1))\n",
       "  (pool): MaxPool2d(kernel_size=2, stride=2, padding=0, dilation=1, ceil_mode=False)\n",
       "  (dropout): Dropout(p=0.7, inplace=False)\n",
       "  (ann_layer1): Linear(in_features=37632, out_features=120, bias=True)\n",
       "  (ann_layer2): Linear(in_features=120, out_features=60, bias=True)\n",
       "  (ann_layer3): Linear(in_features=60, out_features=4, bias=True)\n",
       ")"
      ]
     },
     "execution_count": 29,
     "metadata": {},
     "output_type": "execute_result"
    }
   ],
   "source": [
    "model = CNN() \n",
    "model.load_state_dict(torch.load('cnn_model.pth'))  \n",
    "model.eval()  "
   ]
  },
  {
   "cell_type": "code",
   "execution_count": 30,
   "metadata": {},
   "outputs": [],
   "source": [
    "def extract_images_from_pdf(pdf_path):\n",
    "    images = convert_from_path(pdf_path)\n",
    "    return images"
   ]
  },
  {
   "cell_type": "code",
   "execution_count": 31,
   "metadata": {},
   "outputs": [],
   "source": [
    "def test_image_or_pdf(file_path):\n",
    "    if file_path.lower().endswith('.pdf'):\n",
    "        images = extract_images_from_pdf(file_path)\n",
    "        predictions = []\n",
    "        \n",
    "        for image in images:\n",
    "            image = image.convert('RGB') \n",
    "            image = transform(image) \n",
    "            image = image.unsqueeze(0)  \n",
    "            image = image.to(device) \n",
    "            with torch.no_grad():\n",
    "                output = model(image)\n",
    "                _, predicted = torch.max(output.data, 1) \n",
    "                predictions.append(predicted.item())\n",
    "        \n",
    "        return predictions  \n",
    "\n",
    "    else:\n",
    "        image = Image.open(file_path).convert('RGB')  \n",
    "        image = transform(image) \n",
    "        image = image.unsqueeze(0)  \n",
    "        image = image.to(device)  \n",
    "\n",
    "        with torch.no_grad():\n",
    "            output = model(image)\n",
    "            _, predicted = torch.max(output.data, 1)  \n",
    "        return predicted.item()  \n"
   ]
  },
  {
   "cell_type": "code",
   "execution_count": 34,
   "metadata": {},
   "outputs": [
    {
     "name": "stdout",
     "output_type": "stream",
     "text": [
      "Page 1: 0 : Aadhar\n",
      "Page 2: 3 : PAN Card\n",
      "Page 3: 2 : IITH ID Card\n",
      "Page 4: 0 : Aadhar\n"
     ]
    }
   ],
   "source": [
    "file_path = '/home/lahari/Downloads/check_code.pdf'  \n",
    "if file_path.lower().endswith('.pdf'):\n",
    "    predicted_classes = test_image_or_pdf(file_path)\n",
    "    for idx, predicted_class in enumerate(predicted_classes):\n",
    "        if predicted_class == 0: \n",
    "            print(f'Page {idx + 1}: {predicted_class} : Aadhar')\n",
    "        elif predicted_class == 1: \n",
    "            print(f'Page {idx + 1}: {predicted_class} : Driving License of Australia')\n",
    "        elif predicted_class == 2: \n",
    "            print(f'Page {idx + 1}: {predicted_class} : IITH ID Card')\n",
    "        elif predicted_class == 3: \n",
    "            print(f'Page {idx + 1}: {predicted_class} : PAN Card')\n",
    "else:\n",
    "    predicted_class = test_image_or_pdf(file_path)\n",
    "    if predicted_class == 0: \n",
    "        print(f'{predicted_class} : Aadhar')\n",
    "    elif predicted_class == 1: \n",
    "        print(f'{predicted_class} : Driving License of Australia')\n",
    "    elif predicted_class == 2: \n",
    "        print(f'{predicted_class} : IITH ID Card')\n",
    "    elif predicted_class == 3: \n",
    "        print(f'{predicted_class} : PAN Card')\n"
   ]
  },
  {
   "cell_type": "markdown",
   "metadata": {},
   "source": [
    "- Except for first image remaining are classified because of the brightness"
   ]
  }
 ],
 "metadata": {
  "kernelspec": {
   "display_name": ".venv",
   "language": "python",
   "name": "python3"
  },
  "language_info": {
   "codemirror_mode": {
    "name": "ipython",
    "version": 3
   },
   "file_extension": ".py",
   "mimetype": "text/x-python",
   "name": "python",
   "nbconvert_exporter": "python",
   "pygments_lexer": "ipython3",
   "version": "3.10.12"
  }
 },
 "nbformat": 4,
 "nbformat_minor": 2
}
